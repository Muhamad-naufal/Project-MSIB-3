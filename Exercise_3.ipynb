{
  "nbformat": 4,
  "nbformat_minor": 0,
  "metadata": {
    "colab": {
      "provenance": [],
      "collapsed_sections": [],
      "authorship_tag": "ABX9TyOryzY5zR46MjNRgHJZpZP3",
      "include_colab_link": true
    },
    "kernelspec": {
      "name": "python3",
      "display_name": "Python 3"
    },
    "language_info": {
      "name": "python"
    }
  },
  "cells": [
    {
      "cell_type": "markdown",
      "metadata": {
        "id": "view-in-github",
        "colab_type": "text"
      },
      "source": [
        "<a href=\"https://colab.research.google.com/github/Muhamad-naufal/Project-MSIB-3/blob/main/Exercise_3.ipynb\" target=\"_parent\"><img src=\"https://colab.research.google.com/assets/colab-badge.svg\" alt=\"Open In Colab\"/></a>"
      ]
    },
    {
      "cell_type": "code",
      "execution_count": 1,
      "metadata": {
        "colab": {
          "base_uri": "https://localhost:8080/"
        },
        "id": "5KN3jh9u1xAD",
        "outputId": "3aa1344d-fe78-4713-9f75-c7f4a0d04e0d"
      },
      "outputs": [
        {
          "output_type": "stream",
          "name": "stdout",
          "text": [
            "(1990022, 'Herman', 'L', 'Tangerang', 'Machinery', 'Manager', 10000000)\n",
            "(2001077, 'Badar', 'L', 'Bekasi', 'Machinery', 'Staff', 7500000)\n",
            "(2002019, 'Clara', 'P', 'Depok', 'Compressor', 'Staff', 7000000)\n",
            "(2002081, 'Rista', 'P', 'Bogor', 'QC', 'Staff', 6500000)\n",
            "(2005099, 'Riani', 'P', 'Bekasi', 'QC', 'Operator', 6000000)\n",
            "(2006003, 'Afif', 'L', 'Karawang', 'Compressor', 'Operator', 5500000)\n",
            "(2006104, 'Riven', 'L', 'Tangerang', 'Compressor', 'Operator', 5500000)\n"
          ]
        }
      ],
      "source": [
        "NIK = [1990022, 2001077, 2002019, 2002081, 2005099, 2006003, 2006104, 2008160] \n",
        "Nama = ['Herman', 'Badar', 'Clara', 'Rista', 'Riani', 'Afif', 'Riven', 'Endah']\n",
        "Jenis_Kelamin = ['L', 'L', 'P', 'P', 'P', 'L', 'L', 'P']\n",
        "Alamat = ['Tangerang', 'Bekasi', 'Depok', 'Bogor', 'Bekasi', 'Karawang', 'Tangerang', 'Jakarta']\n",
        "Divisi = ['Machinery', 'Machinery', 'Compressor', 'QC', 'QC', 'Compressor', 'Compressor', 'Machinery']\n",
        "Jabatan = ['Manager', 'Staff', 'Staff', 'Staff', 'Operator', 'Operator', 'Operator']\n",
        "Gaji_Pokok = [10000000, 7500000, 7000000, 6500000, 6000000, 5500000, 5500000, 5000000]\n",
        "\n",
        "for data in zip(NIK,Nama, Jenis_Kelamin, Alamat, Divisi, Jabatan, Gaji_Pokok):\n",
        "  print(data)"
      ]
    },
    {
      "cell_type": "code",
      "source": [
        "import numpy as np\n",
        "\n",
        "A = np.array([[1, 2],\n",
        "              [4, 5],\n",
        "              [7, 8]])\n",
        "\n",
        "print(A, '\\n')\n",
        "\n",
        "print(A[2:3, 0:1],\n",
        "      A[2:3, 1:2])"
      ],
      "metadata": {
        "colab": {
          "base_uri": "https://localhost:8080/"
        },
        "id": "w0jkHzfx15lC",
        "outputId": "6fee1a47-def1-4c90-c473-fc0ac720d1af"
      },
      "execution_count": 6,
      "outputs": [
        {
          "output_type": "stream",
          "name": "stdout",
          "text": [
            "[[1 2]\n",
            " [4 5]\n",
            " [7 8]] \n",
            "\n",
            "[[7]] [[8]]\n"
          ]
        }
      ]
    },
    {
      "cell_type": "code",
      "source": [
        "import numpy as np\n",
        "\n",
        "A = np.array([[1, 6, 9],\n",
        "              [2, 5, 8]])\n",
        "\n",
        "print(A, '\\n')\n",
        "\n",
        "print(A[0:1, 1:2],\n",
        "      A[1:2, 1:2])"
      ],
      "metadata": {
        "colab": {
          "base_uri": "https://localhost:8080/"
        },
        "id": "0fEIPK0G3LaQ",
        "outputId": "06ef368a-4868-4ec4-b62e-9a79929d6f59"
      },
      "execution_count": 7,
      "outputs": [
        {
          "output_type": "stream",
          "name": "stdout",
          "text": [
            "[[1 6 9]\n",
            " [2 5 8]] \n",
            "\n",
            "[[6]] [[5]]\n"
          ]
        }
      ]
    },
    {
      "cell_type": "code",
      "source": [
        "import numpy as np\n",
        "\n",
        "A = np.array([[4, 3, 8],\n",
        "              [7, 2, 5],\n",
        "              [6, 1, 9]])\n",
        "\n",
        "print(A, '\\n')\n",
        "\n",
        "print(A[1:2, 1:2])\n",
        "print(A[2:3, 1:2])"
      ],
      "metadata": {
        "colab": {
          "base_uri": "https://localhost:8080/"
        },
        "id": "4dREtBO_3PB7",
        "outputId": "38952b5c-44fc-49d2-e427-4fdbfa0249e8"
      },
      "execution_count": 8,
      "outputs": [
        {
          "output_type": "stream",
          "name": "stdout",
          "text": [
            "[[4 3 8]\n",
            " [7 2 5]\n",
            " [6 1 9]] \n",
            "\n",
            "[[2]]\n",
            "[[1]]\n"
          ]
        }
      ]
    },
    {
      "cell_type": "code",
      "source": [
        "import numpy as np\n",
        "\n",
        "B = np.array([[4, 3, 8],\n",
        "              [7, 2, 5],\n",
        "              [6, 1, 9]])\n",
        "\n",
        "print(B, '\\n')\n",
        "\n",
        "print(B[0:1, 1:2], B[0:1, 2:3])"
      ],
      "metadata": {
        "colab": {
          "base_uri": "https://localhost:8080/"
        },
        "id": "4k6eZsBe3Snl",
        "outputId": "4f8a5cf9-b3b3-41fa-c299-c6b8d5c9d48a"
      },
      "execution_count": 9,
      "outputs": [
        {
          "output_type": "stream",
          "name": "stdout",
          "text": [
            "[[4 3 8]\n",
            " [7 2 5]\n",
            " [6 1 9]] \n",
            "\n",
            "[[3]] [[8]]\n"
          ]
        }
      ]
    },
    {
      "cell_type": "code",
      "source": [
        "import numpy as np\n",
        "\n",
        "A = np.array([[23, 35, 93, 87],\n",
        "              [92, 44, 11, 83],\n",
        "              [40, 12, 46, 28],\n",
        "              [73, 67, 65, 32]])\n",
        "\n",
        "print(A, '\\n')\n",
        "\n",
        "\n",
        "print('a =',A[1:2, 1:2], A[1:2, 2:3], A[1:2, 3:4], '\\n')\n",
        "print('b =',A[2:3, 1:2], A[2:3, 2:3],'\\n', \n",
        "            A[3:4, 1:2], A[3:4, 2:3],'\\n')\n",
        "print('c =',A[1:2, 1:2], A[1:2, 2:3], A[1:2, 3:4],'\\n',\n",
        "            A[2:3, 1:2], A[2:3, 2:3], A[2:3, 3:4],'\\n',\n",
        "            A[3:4, 1:2], A[3:4, 2:3], A[3:4, 3:4],'\\n')\n",
        "print('d =',A[1:2, 0:1], A[1:2, 1:2],'\\n',\n",
        "            A[2:3, 0:1], A[2:3, 1:2],'\\n')\n",
        "print('e =',A[0:1, 0:1], A[0:1, 1:2], A[0:1, 2:3], '\\n',\n",
        "            A[1:2, 0:1], A[1:2, 1:2], A[1:2, 2:3], '\\n')\n",
        "print('f =',A[1:2, 1:2], '\\n',\n",
        "            A[2:3, 1:2], '\\n',\n",
        "            A[3:4, 1:2])"
      ],
      "metadata": {
        "colab": {
          "base_uri": "https://localhost:8080/"
        },
        "id": "MN4fttx33VQP",
        "outputId": "0145a74e-9964-42b7-fe1f-cbf9d7b4535a"
      },
      "execution_count": 10,
      "outputs": [
        {
          "output_type": "stream",
          "name": "stdout",
          "text": [
            "[[23 35 93 87]\n",
            " [92 44 11 83]\n",
            " [40 12 46 28]\n",
            " [73 67 65 32]] \n",
            "\n",
            "a = [[44]] [[11]] [[83]] \n",
            "\n",
            "b = [[12]] [[46]] \n",
            " [[67]] [[65]] \n",
            "\n",
            "c = [[44]] [[11]] [[83]] \n",
            " [[12]] [[46]] [[28]] \n",
            " [[67]] [[65]] [[32]] \n",
            "\n",
            "d = [[92]] [[44]] \n",
            " [[40]] [[12]] \n",
            "\n",
            "e = [[23]] [[35]] [[93]] \n",
            " [[92]] [[44]] [[11]] \n",
            "\n",
            "f = [[44]] \n",
            " [[12]] \n",
            " [[67]]\n"
          ]
        }
      ]
    }
  ]
}