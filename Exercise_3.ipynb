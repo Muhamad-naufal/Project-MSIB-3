{
  "nbformat": 4,
  "nbformat_minor": 0,
  "metadata": {
    "colab": {
      "provenance": [],
      "collapsed_sections": [],
      "authorship_tag": "ABX9TyNw6mZCTh4lvkHUBjt1R8Ml",
      "include_colab_link": true
    },
    "kernelspec": {
      "name": "python3",
      "display_name": "Python 3"
    },
    "language_info": {
      "name": "python"
    }
  },
  "cells": [
    {
      "cell_type": "markdown",
      "metadata": {
        "id": "view-in-github",
        "colab_type": "text"
      },
      "source": [
        "<a href=\"https://colab.research.google.com/github/Muhamad-naufal/Project-MSIB-3/blob/main/Exercise_3.ipynb\" target=\"_parent\"><img src=\"https://colab.research.google.com/assets/colab-badge.svg\" alt=\"Open In Colab\"/></a>"
      ]
    },
    {
      "cell_type": "code",
      "execution_count": null,
      "metadata": {
        "colab": {
          "base_uri": "https://localhost:8080/"
        },
        "id": "5KN3jh9u1xAD",
        "outputId": "3aa1344d-fe78-4713-9f75-c7f4a0d04e0d"
      },
      "outputs": [
        {
          "output_type": "stream",
          "name": "stdout",
          "text": [
            "(1990022, 'Herman', 'L', 'Tangerang', 'Machinery', 'Manager', 10000000)\n",
            "(2001077, 'Badar', 'L', 'Bekasi', 'Machinery', 'Staff', 7500000)\n",
            "(2002019, 'Clara', 'P', 'Depok', 'Compressor', 'Staff', 7000000)\n",
            "(2002081, 'Rista', 'P', 'Bogor', 'QC', 'Staff', 6500000)\n",
            "(2005099, 'Riani', 'P', 'Bekasi', 'QC', 'Operator', 6000000)\n",
            "(2006003, 'Afif', 'L', 'Karawang', 'Compressor', 'Operator', 5500000)\n",
            "(2006104, 'Riven', 'L', 'Tangerang', 'Compressor', 'Operator', 5500000)\n"
          ]
        }
      ],
      "source": [
        "NIK = [1990022, 2001077, 2002019, 2002081, 2005099, 2006003, 2006104, 2008160] \n",
        "Nama = ['Herman', 'Badar', 'Clara', 'Rista', 'Riani', 'Afif', 'Riven', 'Endah']\n",
        "Jenis_Kelamin = ['L', 'L', 'P', 'P', 'P', 'L', 'L', 'P']\n",
        "Alamat = ['Tangerang', 'Bekasi', 'Depok', 'Bogor', 'Bekasi', 'Karawang', 'Tangerang', 'Jakarta']\n",
        "Divisi = ['Machinery', 'Machinery', 'Compressor', 'QC', 'QC', 'Compressor', 'Compressor', 'Machinery']\n",
        "Jabatan = ['Manager', 'Staff', 'Staff', 'Staff', 'Operator', 'Operator', 'Operator']\n",
        "Gaji_Pokok = [10000000, 7500000, 7000000, 6500000, 6000000, 5500000, 5500000, 5000000]\n",
        "\n",
        "for data in zip(NIK,Nama, Jenis_Kelamin, Alamat, Divisi, Jabatan, Gaji_Pokok):\n",
        "  print(data)"
      ]
    },
    {
      "cell_type": "code",
      "source": [
        "import numpy as np\n",
        "\n",
        "A = np.array([[1, 2],\n",
        "              [4, 5],\n",
        "              [7, 8]])\n",
        "\n",
        "print(A, '\\n')\n",
        "\n",
        "print(A[2:3, 0:1], \n",
        "      A[2:3, 1:2])"
      ],
      "metadata": {
        "colab": {
          "base_uri": "https://localhost:8080/"
        },
        "id": "w0jkHzfx15lC",
        "outputId": "5797e9d5-8116-4be1-d26a-12034815bcb2"
      },
      "execution_count": null,
      "outputs": [
        {
          "output_type": "stream",
          "name": "stdout",
          "text": [
            "[[1 2]\n",
            " [4 5]\n",
            " [7 8]] \n",
            "\n",
            "[[7]] [[8]]\n"
          ]
        }
      ]
    },
    {
      "cell_type": "code",
      "source": [
        "B = np.array([[1, 6, 9],\n",
        "              [2, 5, 8]])\n",
        "\n",
        "print(B, '\\n')\n",
        "\n",
        "print(B[0:1, 1:2], B[1:2, 1:2])"
      ],
      "metadata": {
        "colab": {
          "base_uri": "https://localhost:8080/"
        },
        "id": "0fEIPK0G3LaQ",
        "outputId": "793d332b-2080-455d-b536-fd954b11e302"
      },
      "execution_count": null,
      "outputs": [
        {
          "output_type": "stream",
          "name": "stdout",
          "text": [
            "[[1 6 9]\n",
            " [2 5 8]] \n",
            "\n",
            "[[6]] [[5]]\n"
          ]
        }
      ]
    },
    {
      "cell_type": "code",
      "source": [
        "C = np.array([[4, 3, 8],\n",
        "              [7, 2, 5],\n",
        "              [6, 1, 9]])\n",
        "\n",
        "print(C, '\\n')\n",
        "\n",
        "print(C[1:2, 1:2])\n",
        "print(C[2:3, 1:2])"
      ],
      "metadata": {
        "colab": {
          "base_uri": "https://localhost:8080/"
        },
        "id": "4dREtBO_3PB7",
        "outputId": "3a53b9c7-58a8-4be8-a5f4-47072185f42f"
      },
      "execution_count": null,
      "outputs": [
        {
          "output_type": "stream",
          "name": "stdout",
          "text": [
            "[[4 3 8]\n",
            " [7 2 5]\n",
            " [6 1 9]] \n",
            "\n",
            "[[2]]\n",
            "[[1]]\n"
          ]
        }
      ]
    },
    {
      "cell_type": "code",
      "source": [
        "D = np.array([[4, 3, 8],\n",
        "              [7, 2, 5],\n",
        "              [6, 1, 9]])\n",
        "\n",
        "print(D, '\\n')\n",
        "\n",
        "print(D[0:1, 1:2], D[0:1, 2:3])"
      ],
      "metadata": {
        "colab": {
          "base_uri": "https://localhost:8080/"
        },
        "id": "4k6eZsBe3Snl",
        "outputId": "3a22370a-4b5d-4881-b551-654ae200d663"
      },
      "execution_count": null,
      "outputs": [
        {
          "output_type": "stream",
          "name": "stdout",
          "text": [
            "[[4 3 8]\n",
            " [7 2 5]\n",
            " [6 1 9]] \n",
            "\n",
            "[[3]] [[8]]\n"
          ]
        }
      ]
    },
    {
      "cell_type": "code",
      "source": [
        "E = np.array([[23, 35, 93, 87],\n",
        "              [92, 44, 11, 83],\n",
        "              [40, 12, 46, 28],\n",
        "              [73, 67, 65, 32]])\n",
        "\n",
        "print(E, '\\n')\n",
        "\n",
        "\n",
        "print('1 =',E[1:2, 1:2], E[1:2, 2:3], E[1:2, 3:4], '\\n')\n",
        "print('2 =',E[2:3, 1:2], E[2:3, 2:3],'\\n', \n",
        "            E[3:4, 1:2], E[3:4, 2:3],'\\n')\n",
        "print('3 =',E[1:2, 1:2], E[1:2, 2:3], E[1:2, 3:4],'\\n',\n",
        "            E[2:3, 1:2], E[2:3, 2:3], E[2:3, 3:4],'\\n',\n",
        "            E[3:4, 1:2], E[3:4, 2:3], E[3:4, 3:4],'\\n')\n",
        "print('4 =',E[1:2, 0:1], E[1:2, 1:2],'\\n',\n",
        "            E[2:3, 0:1], E[2:3, 1:2],'\\n')\n",
        "print('5 =',E[0:1, 0:1], E[0:1, 1:2], E[0:1, 2:3], '\\n',\n",
        "            E[1:2, 0:1], E[1:2, 1:2], E[1:2, 2:3], '\\n')\n",
        "print('6 =',E[1:2, 1:2], '\\n',\n",
        "            E[2:3, 1:2], '\\n',\n",
        "            E[3:4, 1:2])"
      ],
      "metadata": {
        "colab": {
          "base_uri": "https://localhost:8080/"
        },
        "id": "MN4fttx33VQP",
        "outputId": "180aefa3-6b13-4b03-8e45-89cc725bb64e"
      },
      "execution_count": null,
      "outputs": [
        {
          "output_type": "stream",
          "name": "stdout",
          "text": [
            "[[23 35 93 87]\n",
            " [92 44 11 83]\n",
            " [40 12 46 28]\n",
            " [73 67 65 32]] \n",
            "\n",
            "1 = [[44]] [[11]] [[83]] \n",
            "\n",
            "2 = [[12]] [[46]] \n",
            " [[67]] [[65]] \n",
            "\n",
            "3 = [[44]] [[11]] [[83]] \n",
            " [[12]] [[46]] [[28]] \n",
            " [[67]] [[65]] [[32]] \n",
            "\n",
            "4 = [[92]] [[44]] \n",
            " [[40]] [[12]] \n",
            "\n",
            "5 = [[23]] [[35]] [[93]] \n",
            " [[92]] [[44]] [[11]] \n",
            "\n",
            "6 = [[44]] \n",
            " [[12]] \n",
            " [[67]]\n"
          ]
        }
      ]
    }
  ]
}