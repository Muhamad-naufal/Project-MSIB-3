{
  "nbformat": 4,
  "nbformat_minor": 0,
  "metadata": {
    "colab": {
      "name": "Exercise rumus.ipynb",
      "provenance": [],
      "collapsed_sections": [],
      "authorship_tag": "ABX9TyMpadWUTTjc1AQbM89TEsEi",
      "include_colab_link": true
    },
    "kernelspec": {
      "name": "python3",
      "display_name": "Python 3"
    },
    "language_info": {
      "name": "python"
    }
  },
  "cells": [
    {
      "cell_type": "markdown",
      "metadata": {
        "id": "view-in-github",
        "colab_type": "text"
      },
      "source": [
        "<a href=\"https://colab.research.google.com/github/Muhamad-naufal/Project-MSIB-3/blob/main/Exercise_rumus.ipynb\" target=\"_parent\"><img src=\"https://colab.research.google.com/assets/colab-badge.svg\" alt=\"Open In Colab\"/></a>"
      ]
    },
    {
      "cell_type": "markdown",
      "source": [
        "# Exercise\n",
        "\n",
        "1. Pilih 4 jenis bangun datar .Kemudian buatlah 4 program berbeda (4 cell) untuk menghitung luas dan keliling bangun datar yang kamu pilih. Pastikan user dapat menginput nilai ke dalam program."
      ],
      "metadata": {
        "id": "r19Rp_0hQHu-"
      }
    },
    {
      "cell_type": "markdown",
      "source": [
        "a. Luas Persegi"
      ],
      "metadata": {
        "id": "XXVkm53FToIc"
      }
    },
    {
      "cell_type": "code",
      "source": [
        "print(\"Rumus Luas Persegi\")\n",
        "s1 = int(input(\"Masukkan Panjang Sisi : \"))\n",
        "\n",
        "luas = s1 * 4\n",
        "print(luas)"
      ],
      "metadata": {
        "id": "I9KzFFGqTvLV",
        "colab": {
          "base_uri": "https://localhost:8080/"
        },
        "outputId": "9013b378-33cb-4c3e-982d-7e4d3df693f8"
      },
      "execution_count": 3,
      "outputs": [
        {
          "output_type": "stream",
          "name": "stdout",
          "text": [
            "Rumus Luas dan Keliling Persegi\n",
            "Masukkan Panjang Sisi : 5\n",
            "20\n"
          ]
        }
      ]
    },
    {
      "cell_type": "markdown",
      "source": [
        "b. keliling persegi"
      ],
      "metadata": {
        "id": "oqeu3ZQlnE0D"
      }
    },
    {
      "cell_type": "code",
      "source": [
        "print(\"Rumus Luas Persegi\")\n",
        "s2 = int(input(\"Masukkan Panjang Sisi : \"))\n",
        "\n",
        "keliling = s1 * 4\n",
        "print(keliling)"
      ],
      "metadata": {
        "colab": {
          "base_uri": "https://localhost:8080/"
        },
        "id": "8P9dtHdYnD28",
        "outputId": "4595eb7b-23c9-4ed0-e8d6-7188a2a32c2d"
      },
      "execution_count": 4,
      "outputs": [
        {
          "output_type": "stream",
          "name": "stdout",
          "text": [
            "Rumus Luas Persegi\n",
            "Masukkan Panjang Sisi : 5\n",
            "20\n"
          ]
        }
      ]
    },
    {
      "cell_type": "markdown",
      "source": [
        "c. Luas Persegi Panjang"
      ],
      "metadata": {
        "id": "fy_VNqJPnk3d"
      }
    },
    {
      "cell_type": "code",
      "source": [
        "print(\"Rumus Luas Persegi Panjang\")\n",
        "p1 = int(input(\"Masukkan Panjang : \"))\n",
        "l1 = int(input(\"Masukkan Lebar : \"))\n",
        "\n",
        "luas = p1 * l1\n",
        "print(luas)"
      ],
      "metadata": {
        "colab": {
          "base_uri": "https://localhost:8080/"
        },
        "id": "8taYrLe2niST",
        "outputId": "fb820812-974d-4076-8bde-897f34c06724"
      },
      "execution_count": 7,
      "outputs": [
        {
          "output_type": "stream",
          "name": "stdout",
          "text": [
            "Rumus Luas Persegi Panjang\n",
            "Masukkan Panjang : 20\n",
            "Masukkan Lebar : 20\n",
            "400\n"
          ]
        }
      ]
    },
    {
      "cell_type": "markdown",
      "source": [
        "d. Keliling Persegi Panjang"
      ],
      "metadata": {
        "id": "HHsk1BR8om3T"
      }
    },
    {
      "cell_type": "code",
      "source": [
        "print(\"Rumus Luas Persegi Panjang\")\n",
        "p2 = int(input(\"Masukkan Panjang : \"))\n",
        "l2 = int(input(\"Masukkan Lebar: \"))\n",
        "\n",
        "keliling = 2 * (p2 + l2)\n",
        "print(keliling)"
      ],
      "metadata": {
        "colab": {
          "base_uri": "https://localhost:8080/"
        },
        "id": "DUj7Ac-CoK6t",
        "outputId": "ec8a012d-5e62-421b-c00e-2a134aacee12"
      },
      "execution_count": 15,
      "outputs": [
        {
          "output_type": "stream",
          "name": "stdout",
          "text": [
            "Rumus Luas Persegi Panjang\n",
            "Masukkan Panjang : 20\n",
            "Masukkan Lebar\t\t: 20\n",
            "80\n"
          ]
        }
      ]
    },
    {
      "cell_type": "markdown",
      "source": [
        "e. Luas Jajar Genjang"
      ],
      "metadata": {
        "id": "dnkepPALo04e"
      }
    },
    {
      "cell_type": "code",
      "source": [
        "print(\"Rumus Luas Jajar Genjang\")\n",
        "t1 = int(input(\"Masukkan Tinggi\\t\\t\\t: \"))\n",
        "s1 = int(input(\"Masukkan Panjang Sisi Miring\\t: \"))\n",
        "a1 = int(input(\"Masukkan Panjang Alas\\t\\t: \"))\n",
        "\n",
        "luas = a1 * t1\n",
        "print(luas)"
      ],
      "metadata": {
        "colab": {
          "base_uri": "https://localhost:8080/"
        },
        "id": "6G3Z5v0vo6ak",
        "outputId": "ad819453-15cf-4a83-f16d-3e30064d6beb"
      },
      "execution_count": 13,
      "outputs": [
        {
          "output_type": "stream",
          "name": "stdout",
          "text": [
            "Rumus Luas Jajar Genjang\n",
            "Masukkan Tinggi\t\t\t: 20\n",
            "Masukkan Panjang Sisi Miring\t: 20\n",
            "Masukkan Panjang Alas\t\t: 20\n",
            "400\n"
          ]
        }
      ]
    },
    {
      "cell_type": "markdown",
      "source": [
        "f. keliling Jajar Genjang"
      ],
      "metadata": {
        "id": "_5psrKiNqHlq"
      }
    },
    {
      "cell_type": "code",
      "source": [
        "print(\"Rumus Keliling Jajar Genjang\")\n",
        "t1 = int(input(\"Masukkan Tinggi\\t\\t\\t: \"))\n",
        "s1 = int(input(\"Masukkan Panjang Sisi Miring\\t: \"))\n",
        "a1 = int(input(\"Masukkan Panjang Alas\\t\\t: \"))\n",
        "\n",
        "keliling = 2 * (a1 + s1)\n",
        "print(luas)"
      ],
      "metadata": {
        "colab": {
          "base_uri": "https://localhost:8080/"
        },
        "id": "WMldLfDVqLuV",
        "outputId": "62051f83-57d6-4342-9fc1-7eca13fd3c26"
      },
      "execution_count": 16,
      "outputs": [
        {
          "output_type": "stream",
          "name": "stdout",
          "text": [
            "Rumus Keliling Jajar Genjang\n",
            "Masukkan Tinggi\t\t\t: 20\n",
            "Masukkan Panjang Sisi Miring\t: 300\n",
            "Masukkan Panjang Alas\t\t: 30\n",
            "400\n"
          ]
        }
      ]
    },
    {
      "cell_type": "markdown",
      "source": [
        "h. Luas Trapesium"
      ],
      "metadata": {
        "id": "5NKVj03PsZRL"
      }
    },
    {
      "cell_type": "code",
      "source": [
        "print(\"Rumus Luas Trapesium\")\n",
        "ssa = int(input(\"Masukkan Panjang Sisi Sejajar Atas: \"))\n",
        "ssb = int(input(\"Masukkan Panjang Sisi Sejajar Bawah: \"))\n",
        "sm = int(input(\"Masukkan Panjang Sisi Miring: \"))\n",
        "t = int(input(\"Masukkan Tinggi: \"))\n",
        "\n",
        "luas = 1/2 * (ssa + ssb)\n",
        "print(luas)"
      ],
      "metadata": {
        "colab": {
          "base_uri": "https://localhost:8080/"
        },
        "id": "iicuqS3jyB7S",
        "outputId": "f7e6c7ec-0c4e-4ecc-d01d-7b59c052d2d8"
      },
      "execution_count": 19,
      "outputs": [
        {
          "output_type": "stream",
          "name": "stdout",
          "text": [
            "Rumus Luas Trapesium\n",
            "Masukkan Panjang Sisi Sejajar Atas: 30\n",
            "Masukkan Panjang Sisi Sejajar Bawah: 30\n",
            "Masukkan Panjang Sisi Miring: 20\n",
            "Masukkan Tinggi: 10\n",
            "30.0\n"
          ]
        }
      ]
    },
    {
      "cell_type": "markdown",
      "source": [
        "g. Keliling Trapesium"
      ],
      "metadata": {
        "id": "ZqI5SYugrLi6"
      }
    },
    {
      "cell_type": "code",
      "source": [
        "print(\"Rumus Keliling Trapesium\")\n",
        "ssa = int(input(\"Masukkan Panjang Sisi Sejajar Atas: \"))\n",
        "ssb = int(input(\"Masukkan Panjang Sisi Sejajar Bawah: \"))\n",
        "sm = int(input(\"Masukkan Panjang Sisi Miring: \"))\n",
        "\n",
        "keliling = (2 * sm) + ssa + ssb\n",
        "print(keliling)"
      ],
      "metadata": {
        "colab": {
          "base_uri": "https://localhost:8080/"
        },
        "id": "6FY6ufTarU8p",
        "outputId": "e8b23ad6-8093-4bb8-fde4-cc90c1a87e20"
      },
      "execution_count": 17,
      "outputs": [
        {
          "output_type": "stream",
          "name": "stdout",
          "text": [
            "Rumus Keliling Trapesium\n",
            "Masukkan Panjang Sisi Sejajar Atas: 10\n",
            "Masukkan Panjang Sisi Sejajar Bawah: 20\n",
            "Masukkan Panjang Sisi Miring: 5\n",
            "40\n"
          ]
        }
      ]
    }
  ]
}