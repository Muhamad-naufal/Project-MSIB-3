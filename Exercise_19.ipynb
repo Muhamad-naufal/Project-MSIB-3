{
  "nbformat": 4,
  "nbformat_minor": 0,
  "metadata": {
    "colab": {
      "provenance": [],
      "include_colab_link": true
    },
    "kernelspec": {
      "name": "python3",
      "display_name": "Python 3"
    },
    "language_info": {
      "name": "python"
    }
  },
  "cells": [
    {
      "cell_type": "markdown",
      "metadata": {
        "id": "view-in-github",
        "colab_type": "text"
      },
      "source": [
        "<a href=\"https://colab.research.google.com/github/Muhamad-naufal/Project-MSIB-3/blob/main/Exercise_19.ipynb\" target=\"_parent\"><img src=\"https://colab.research.google.com/assets/colab-badge.svg\" alt=\"Open In Colab\"/></a>"
      ]
    },
    {
      "cell_type": "code",
      "metadata": {
        "id": "JuDgnkw0l419"
      },
      "source": [
        "#Library\n",
        "import pandas as pd\n",
        "import numpy as np\n",
        "from scipy import stats\n",
        "from sklearn.preprocessing import MinMaxScaler\n",
        "from sklearn.preprocessing import StandardScaler\n",
        "from sklearn.feature_selection import SelectKBest, f_classif\n",
        "from sklearn.model_selection import train_test_split\n",
        "import time\n",
        "from sklearn.neighbors import KNeighborsClassifier\n",
        "from sklearn import metrics\n",
        "from sklearn.decomposition import PCA\n",
        "from sklearn.discriminant_analysis import LinearDiscriminantAnalysis\n",
        "import matplotlib.pyplot as plt\n",
        "%matplotlib inline  "
      ],
      "execution_count": 22,
      "outputs": []
    },
    {
      "cell_type": "code",
      "metadata": {
        "colab": {
          "base_uri": "https://localhost:8080/",
          "height": 424
        },
        "id": "AgVflauDwvgS",
        "outputId": "41dc8dea-4db6-45df-d48a-ad16067650d9"
      },
      "source": [
        "toefl = pd.read_csv('skor_toefl.csv')\n",
        "toefl"
      ],
      "execution_count": 37,
      "outputs": [
        {
          "output_type": "execute_result",
          "data": {
            "text/plain": [
              "    Sebelum  Sesudah\n",
              "0       429      569\n",
              "1       443      599\n",
              "2       408      612\n",
              "3       459      536\n",
              "4       401      572\n",
              "..      ...      ...\n",
              "94      496      552\n",
              "95      413      544\n",
              "96      400      531\n",
              "97      471      561\n",
              "98      443      588\n",
              "\n",
              "[99 rows x 2 columns]"
            ],
            "text/html": [
              "\n",
              "  <div id=\"df-bc568e49-904f-49d5-bd08-c08f698bd7a1\">\n",
              "    <div class=\"colab-df-container\">\n",
              "      <div>\n",
              "<style scoped>\n",
              "    .dataframe tbody tr th:only-of-type {\n",
              "        vertical-align: middle;\n",
              "    }\n",
              "\n",
              "    .dataframe tbody tr th {\n",
              "        vertical-align: top;\n",
              "    }\n",
              "\n",
              "    .dataframe thead th {\n",
              "        text-align: right;\n",
              "    }\n",
              "</style>\n",
              "<table border=\"1\" class=\"dataframe\">\n",
              "  <thead>\n",
              "    <tr style=\"text-align: right;\">\n",
              "      <th></th>\n",
              "      <th>Sebelum</th>\n",
              "      <th>Sesudah</th>\n",
              "    </tr>\n",
              "  </thead>\n",
              "  <tbody>\n",
              "    <tr>\n",
              "      <th>0</th>\n",
              "      <td>429</td>\n",
              "      <td>569</td>\n",
              "    </tr>\n",
              "    <tr>\n",
              "      <th>1</th>\n",
              "      <td>443</td>\n",
              "      <td>599</td>\n",
              "    </tr>\n",
              "    <tr>\n",
              "      <th>2</th>\n",
              "      <td>408</td>\n",
              "      <td>612</td>\n",
              "    </tr>\n",
              "    <tr>\n",
              "      <th>3</th>\n",
              "      <td>459</td>\n",
              "      <td>536</td>\n",
              "    </tr>\n",
              "    <tr>\n",
              "      <th>4</th>\n",
              "      <td>401</td>\n",
              "      <td>572</td>\n",
              "    </tr>\n",
              "    <tr>\n",
              "      <th>...</th>\n",
              "      <td>...</td>\n",
              "      <td>...</td>\n",
              "    </tr>\n",
              "    <tr>\n",
              "      <th>94</th>\n",
              "      <td>496</td>\n",
              "      <td>552</td>\n",
              "    </tr>\n",
              "    <tr>\n",
              "      <th>95</th>\n",
              "      <td>413</td>\n",
              "      <td>544</td>\n",
              "    </tr>\n",
              "    <tr>\n",
              "      <th>96</th>\n",
              "      <td>400</td>\n",
              "      <td>531</td>\n",
              "    </tr>\n",
              "    <tr>\n",
              "      <th>97</th>\n",
              "      <td>471</td>\n",
              "      <td>561</td>\n",
              "    </tr>\n",
              "    <tr>\n",
              "      <th>98</th>\n",
              "      <td>443</td>\n",
              "      <td>588</td>\n",
              "    </tr>\n",
              "  </tbody>\n",
              "</table>\n",
              "<p>99 rows × 2 columns</p>\n",
              "</div>\n",
              "      <button class=\"colab-df-convert\" onclick=\"convertToInteractive('df-bc568e49-904f-49d5-bd08-c08f698bd7a1')\"\n",
              "              title=\"Convert this dataframe to an interactive table.\"\n",
              "              style=\"display:none;\">\n",
              "        \n",
              "  <svg xmlns=\"http://www.w3.org/2000/svg\" height=\"24px\"viewBox=\"0 0 24 24\"\n",
              "       width=\"24px\">\n",
              "    <path d=\"M0 0h24v24H0V0z\" fill=\"none\"/>\n",
              "    <path d=\"M18.56 5.44l.94 2.06.94-2.06 2.06-.94-2.06-.94-.94-2.06-.94 2.06-2.06.94zm-11 1L8.5 8.5l.94-2.06 2.06-.94-2.06-.94L8.5 2.5l-.94 2.06-2.06.94zm10 10l.94 2.06.94-2.06 2.06-.94-2.06-.94-.94-2.06-.94 2.06-2.06.94z\"/><path d=\"M17.41 7.96l-1.37-1.37c-.4-.4-.92-.59-1.43-.59-.52 0-1.04.2-1.43.59L10.3 9.45l-7.72 7.72c-.78.78-.78 2.05 0 2.83L4 21.41c.39.39.9.59 1.41.59.51 0 1.02-.2 1.41-.59l7.78-7.78 2.81-2.81c.8-.78.8-2.07 0-2.86zM5.41 20L4 18.59l7.72-7.72 1.47 1.35L5.41 20z\"/>\n",
              "  </svg>\n",
              "      </button>\n",
              "      \n",
              "  <style>\n",
              "    .colab-df-container {\n",
              "      display:flex;\n",
              "      flex-wrap:wrap;\n",
              "      gap: 12px;\n",
              "    }\n",
              "\n",
              "    .colab-df-convert {\n",
              "      background-color: #E8F0FE;\n",
              "      border: none;\n",
              "      border-radius: 50%;\n",
              "      cursor: pointer;\n",
              "      display: none;\n",
              "      fill: #1967D2;\n",
              "      height: 32px;\n",
              "      padding: 0 0 0 0;\n",
              "      width: 32px;\n",
              "    }\n",
              "\n",
              "    .colab-df-convert:hover {\n",
              "      background-color: #E2EBFA;\n",
              "      box-shadow: 0px 1px 2px rgba(60, 64, 67, 0.3), 0px 1px 3px 1px rgba(60, 64, 67, 0.15);\n",
              "      fill: #174EA6;\n",
              "    }\n",
              "\n",
              "    [theme=dark] .colab-df-convert {\n",
              "      background-color: #3B4455;\n",
              "      fill: #D2E3FC;\n",
              "    }\n",
              "\n",
              "    [theme=dark] .colab-df-convert:hover {\n",
              "      background-color: #434B5C;\n",
              "      box-shadow: 0px 1px 3px 1px rgba(0, 0, 0, 0.15);\n",
              "      filter: drop-shadow(0px 1px 2px rgba(0, 0, 0, 0.3));\n",
              "      fill: #FFFFFF;\n",
              "    }\n",
              "  </style>\n",
              "\n",
              "      <script>\n",
              "        const buttonEl =\n",
              "          document.querySelector('#df-bc568e49-904f-49d5-bd08-c08f698bd7a1 button.colab-df-convert');\n",
              "        buttonEl.style.display =\n",
              "          google.colab.kernel.accessAllowed ? 'block' : 'none';\n",
              "\n",
              "        async function convertToInteractive(key) {\n",
              "          const element = document.querySelector('#df-bc568e49-904f-49d5-bd08-c08f698bd7a1');\n",
              "          const dataTable =\n",
              "            await google.colab.kernel.invokeFunction('convertToInteractive',\n",
              "                                                     [key], {});\n",
              "          if (!dataTable) return;\n",
              "\n",
              "          const docLinkHtml = 'Like what you see? Visit the ' +\n",
              "            '<a target=\"_blank\" href=https://colab.research.google.com/notebooks/data_table.ipynb>data table notebook</a>'\n",
              "            + ' to learn more about interactive tables.';\n",
              "          element.innerHTML = '';\n",
              "          dataTable['output_type'] = 'display_data';\n",
              "          await google.colab.output.renderOutput(dataTable, element);\n",
              "          const docLink = document.createElement('div');\n",
              "          docLink.innerHTML = docLinkHtml;\n",
              "          element.appendChild(docLink);\n",
              "        }\n",
              "      </script>\n",
              "    </div>\n",
              "  </div>\n",
              "  "
            ]
          },
          "metadata": {},
          "execution_count": 37
        }
      ]
    },
    {
      "cell_type": "code",
      "metadata": {
        "colab": {
          "base_uri": "https://localhost:8080/"
        },
        "id": "i20ZTsqdw6J6",
        "outputId": "919d6c85-dea9-49c4-9b32-ad7cdd051921"
      },
      "source": [
        "#Melakukan uji t\n",
        "uji_t = stats.ttest_rel(toefl['Sesudah'], toefl['Sebelum']) #hasilnya: (statistik hitungnya (t-hitung), pvalue)\n",
        "print('nilai t-hitung = ', uji_t[0])\n",
        "print('nilai p-value = ', uji_t[1])"
      ],
      "execution_count": 24,
      "outputs": [
        {
          "output_type": "stream",
          "name": "stdout",
          "text": [
            "nilai t-hitung =  30.255038012916643\n",
            "nilai p-value =  1.638101871655264e-51\n"
          ]
        }
      ]
    },
    {
      "cell_type": "code",
      "metadata": {
        "colab": {
          "base_uri": "https://localhost:8080/",
          "height": 505
        },
        "id": "EZe1xL54lVNR",
        "outputId": "6e51edb3-fcd7-4b8f-eaac-8debd7f17ec2"
      },
      "source": [
        "music = pd.read_csv('music_genre.csv')\n",
        "music2 = music.copy()\n",
        "music2.dropna(inplace=True)\n",
        "del music2['Artist Name']\n",
        "del music2['Track Name']\n",
        "music2"
      ],
      "execution_count": 25,
      "outputs": [
        {
          "output_type": "execute_result",
          "data": {
            "text/plain": [
              "       Popularity  danceability  energy   key  loudness  mode  speechiness  \\\n",
              "1            54.0         0.382   0.814   3.0    -7.230     1       0.0406   \n",
              "2            35.0         0.434   0.614   6.0    -8.334     1       0.0525   \n",
              "4            53.0         0.167   0.975   2.0    -4.279     1       0.2160   \n",
              "5            53.0         0.235   0.977   6.0     0.878     1       0.1070   \n",
              "6            48.0         0.674   0.658   5.0    -9.647     0       0.1040   \n",
              "...           ...           ...     ...   ...       ...   ...          ...   \n",
              "17991        35.0         0.166   0.109   7.0   -17.100     0       0.0413   \n",
              "17992        27.0         0.638   0.223  11.0   -10.174     0       0.0329   \n",
              "17993        34.0         0.558   0.981   4.0    -4.683     0       0.0712   \n",
              "17994        29.0         0.215   0.805   6.0   -12.757     0       0.1340   \n",
              "17995        43.0         0.400   0.853   4.0    -5.320     0       0.0591   \n",
              "\n",
              "       acousticness  instrumentalness  liveness  valence    tempo  \\\n",
              "1          0.001100          0.004010    0.1010   0.5690  116.454   \n",
              "2          0.486000          0.000196    0.3940   0.7870  147.681   \n",
              "4          0.000169          0.016100    0.1720   0.0918  199.060   \n",
              "5          0.003530          0.006040    0.1720   0.2410  152.952   \n",
              "6          0.404000          0.000001    0.0981   0.6770  143.292   \n",
              "...             ...               ...       ...      ...      ...   \n",
              "17991      0.993000          0.824000    0.0984   0.1770  171.587   \n",
              "17992      0.858000          0.000016    0.0705   0.3350   73.016   \n",
              "17993      0.000030          0.000136    0.6660   0.2620  105.000   \n",
              "17994      0.001290          0.916000    0.2560   0.3550  131.363   \n",
              "17995      0.006040          0.212000    0.3340   0.3770  138.102   \n",
              "\n",
              "       duration_in min/ms  time_signature  Class  \n",
              "1                251733.0               4     10  \n",
              "2                109667.0               4      6  \n",
              "4                229960.0               4     10  \n",
              "5                208133.0               4      6  \n",
              "6                329387.0               4      2  \n",
              "...                   ...             ...    ...  \n",
              "17991            193450.0               3      6  \n",
              "17992            257067.0               4      2  \n",
              "17993            216222.0               4      8  \n",
              "17994            219693.0               4      8  \n",
              "17995            182227.0               4     10  \n",
              "\n",
              "[11813 rows x 15 columns]"
            ],
            "text/html": [
              "\n",
              "  <div id=\"df-95b7d8d5-22b3-4b87-b02b-80ae789d2892\">\n",
              "    <div class=\"colab-df-container\">\n",
              "      <div>\n",
              "<style scoped>\n",
              "    .dataframe tbody tr th:only-of-type {\n",
              "        vertical-align: middle;\n",
              "    }\n",
              "\n",
              "    .dataframe tbody tr th {\n",
              "        vertical-align: top;\n",
              "    }\n",
              "\n",
              "    .dataframe thead th {\n",
              "        text-align: right;\n",
              "    }\n",
              "</style>\n",
              "<table border=\"1\" class=\"dataframe\">\n",
              "  <thead>\n",
              "    <tr style=\"text-align: right;\">\n",
              "      <th></th>\n",
              "      <th>Popularity</th>\n",
              "      <th>danceability</th>\n",
              "      <th>energy</th>\n",
              "      <th>key</th>\n",
              "      <th>loudness</th>\n",
              "      <th>mode</th>\n",
              "      <th>speechiness</th>\n",
              "      <th>acousticness</th>\n",
              "      <th>instrumentalness</th>\n",
              "      <th>liveness</th>\n",
              "      <th>valence</th>\n",
              "      <th>tempo</th>\n",
              "      <th>duration_in min/ms</th>\n",
              "      <th>time_signature</th>\n",
              "      <th>Class</th>\n",
              "    </tr>\n",
              "  </thead>\n",
              "  <tbody>\n",
              "    <tr>\n",
              "      <th>1</th>\n",
              "      <td>54.0</td>\n",
              "      <td>0.382</td>\n",
              "      <td>0.814</td>\n",
              "      <td>3.0</td>\n",
              "      <td>-7.230</td>\n",
              "      <td>1</td>\n",
              "      <td>0.0406</td>\n",
              "      <td>0.001100</td>\n",
              "      <td>0.004010</td>\n",
              "      <td>0.1010</td>\n",
              "      <td>0.5690</td>\n",
              "      <td>116.454</td>\n",
              "      <td>251733.0</td>\n",
              "      <td>4</td>\n",
              "      <td>10</td>\n",
              "    </tr>\n",
              "    <tr>\n",
              "      <th>2</th>\n",
              "      <td>35.0</td>\n",
              "      <td>0.434</td>\n",
              "      <td>0.614</td>\n",
              "      <td>6.0</td>\n",
              "      <td>-8.334</td>\n",
              "      <td>1</td>\n",
              "      <td>0.0525</td>\n",
              "      <td>0.486000</td>\n",
              "      <td>0.000196</td>\n",
              "      <td>0.3940</td>\n",
              "      <td>0.7870</td>\n",
              "      <td>147.681</td>\n",
              "      <td>109667.0</td>\n",
              "      <td>4</td>\n",
              "      <td>6</td>\n",
              "    </tr>\n",
              "    <tr>\n",
              "      <th>4</th>\n",
              "      <td>53.0</td>\n",
              "      <td>0.167</td>\n",
              "      <td>0.975</td>\n",
              "      <td>2.0</td>\n",
              "      <td>-4.279</td>\n",
              "      <td>1</td>\n",
              "      <td>0.2160</td>\n",
              "      <td>0.000169</td>\n",
              "      <td>0.016100</td>\n",
              "      <td>0.1720</td>\n",
              "      <td>0.0918</td>\n",
              "      <td>199.060</td>\n",
              "      <td>229960.0</td>\n",
              "      <td>4</td>\n",
              "      <td>10</td>\n",
              "    </tr>\n",
              "    <tr>\n",
              "      <th>5</th>\n",
              "      <td>53.0</td>\n",
              "      <td>0.235</td>\n",
              "      <td>0.977</td>\n",
              "      <td>6.0</td>\n",
              "      <td>0.878</td>\n",
              "      <td>1</td>\n",
              "      <td>0.1070</td>\n",
              "      <td>0.003530</td>\n",
              "      <td>0.006040</td>\n",
              "      <td>0.1720</td>\n",
              "      <td>0.2410</td>\n",
              "      <td>152.952</td>\n",
              "      <td>208133.0</td>\n",
              "      <td>4</td>\n",
              "      <td>6</td>\n",
              "    </tr>\n",
              "    <tr>\n",
              "      <th>6</th>\n",
              "      <td>48.0</td>\n",
              "      <td>0.674</td>\n",
              "      <td>0.658</td>\n",
              "      <td>5.0</td>\n",
              "      <td>-9.647</td>\n",
              "      <td>0</td>\n",
              "      <td>0.1040</td>\n",
              "      <td>0.404000</td>\n",
              "      <td>0.000001</td>\n",
              "      <td>0.0981</td>\n",
              "      <td>0.6770</td>\n",
              "      <td>143.292</td>\n",
              "      <td>329387.0</td>\n",
              "      <td>4</td>\n",
              "      <td>2</td>\n",
              "    </tr>\n",
              "    <tr>\n",
              "      <th>...</th>\n",
              "      <td>...</td>\n",
              "      <td>...</td>\n",
              "      <td>...</td>\n",
              "      <td>...</td>\n",
              "      <td>...</td>\n",
              "      <td>...</td>\n",
              "      <td>...</td>\n",
              "      <td>...</td>\n",
              "      <td>...</td>\n",
              "      <td>...</td>\n",
              "      <td>...</td>\n",
              "      <td>...</td>\n",
              "      <td>...</td>\n",
              "      <td>...</td>\n",
              "      <td>...</td>\n",
              "    </tr>\n",
              "    <tr>\n",
              "      <th>17991</th>\n",
              "      <td>35.0</td>\n",
              "      <td>0.166</td>\n",
              "      <td>0.109</td>\n",
              "      <td>7.0</td>\n",
              "      <td>-17.100</td>\n",
              "      <td>0</td>\n",
              "      <td>0.0413</td>\n",
              "      <td>0.993000</td>\n",
              "      <td>0.824000</td>\n",
              "      <td>0.0984</td>\n",
              "      <td>0.1770</td>\n",
              "      <td>171.587</td>\n",
              "      <td>193450.0</td>\n",
              "      <td>3</td>\n",
              "      <td>6</td>\n",
              "    </tr>\n",
              "    <tr>\n",
              "      <th>17992</th>\n",
              "      <td>27.0</td>\n",
              "      <td>0.638</td>\n",
              "      <td>0.223</td>\n",
              "      <td>11.0</td>\n",
              "      <td>-10.174</td>\n",
              "      <td>0</td>\n",
              "      <td>0.0329</td>\n",
              "      <td>0.858000</td>\n",
              "      <td>0.000016</td>\n",
              "      <td>0.0705</td>\n",
              "      <td>0.3350</td>\n",
              "      <td>73.016</td>\n",
              "      <td>257067.0</td>\n",
              "      <td>4</td>\n",
              "      <td>2</td>\n",
              "    </tr>\n",
              "    <tr>\n",
              "      <th>17993</th>\n",
              "      <td>34.0</td>\n",
              "      <td>0.558</td>\n",
              "      <td>0.981</td>\n",
              "      <td>4.0</td>\n",
              "      <td>-4.683</td>\n",
              "      <td>0</td>\n",
              "      <td>0.0712</td>\n",
              "      <td>0.000030</td>\n",
              "      <td>0.000136</td>\n",
              "      <td>0.6660</td>\n",
              "      <td>0.2620</td>\n",
              "      <td>105.000</td>\n",
              "      <td>216222.0</td>\n",
              "      <td>4</td>\n",
              "      <td>8</td>\n",
              "    </tr>\n",
              "    <tr>\n",
              "      <th>17994</th>\n",
              "      <td>29.0</td>\n",
              "      <td>0.215</td>\n",
              "      <td>0.805</td>\n",
              "      <td>6.0</td>\n",
              "      <td>-12.757</td>\n",
              "      <td>0</td>\n",
              "      <td>0.1340</td>\n",
              "      <td>0.001290</td>\n",
              "      <td>0.916000</td>\n",
              "      <td>0.2560</td>\n",
              "      <td>0.3550</td>\n",
              "      <td>131.363</td>\n",
              "      <td>219693.0</td>\n",
              "      <td>4</td>\n",
              "      <td>8</td>\n",
              "    </tr>\n",
              "    <tr>\n",
              "      <th>17995</th>\n",
              "      <td>43.0</td>\n",
              "      <td>0.400</td>\n",
              "      <td>0.853</td>\n",
              "      <td>4.0</td>\n",
              "      <td>-5.320</td>\n",
              "      <td>0</td>\n",
              "      <td>0.0591</td>\n",
              "      <td>0.006040</td>\n",
              "      <td>0.212000</td>\n",
              "      <td>0.3340</td>\n",
              "      <td>0.3770</td>\n",
              "      <td>138.102</td>\n",
              "      <td>182227.0</td>\n",
              "      <td>4</td>\n",
              "      <td>10</td>\n",
              "    </tr>\n",
              "  </tbody>\n",
              "</table>\n",
              "<p>11813 rows × 15 columns</p>\n",
              "</div>\n",
              "      <button class=\"colab-df-convert\" onclick=\"convertToInteractive('df-95b7d8d5-22b3-4b87-b02b-80ae789d2892')\"\n",
              "              title=\"Convert this dataframe to an interactive table.\"\n",
              "              style=\"display:none;\">\n",
              "        \n",
              "  <svg xmlns=\"http://www.w3.org/2000/svg\" height=\"24px\"viewBox=\"0 0 24 24\"\n",
              "       width=\"24px\">\n",
              "    <path d=\"M0 0h24v24H0V0z\" fill=\"none\"/>\n",
              "    <path d=\"M18.56 5.44l.94 2.06.94-2.06 2.06-.94-2.06-.94-.94-2.06-.94 2.06-2.06.94zm-11 1L8.5 8.5l.94-2.06 2.06-.94-2.06-.94L8.5 2.5l-.94 2.06-2.06.94zm10 10l.94 2.06.94-2.06 2.06-.94-2.06-.94-.94-2.06-.94 2.06-2.06.94z\"/><path d=\"M17.41 7.96l-1.37-1.37c-.4-.4-.92-.59-1.43-.59-.52 0-1.04.2-1.43.59L10.3 9.45l-7.72 7.72c-.78.78-.78 2.05 0 2.83L4 21.41c.39.39.9.59 1.41.59.51 0 1.02-.2 1.41-.59l7.78-7.78 2.81-2.81c.8-.78.8-2.07 0-2.86zM5.41 20L4 18.59l7.72-7.72 1.47 1.35L5.41 20z\"/>\n",
              "  </svg>\n",
              "      </button>\n",
              "      \n",
              "  <style>\n",
              "    .colab-df-container {\n",
              "      display:flex;\n",
              "      flex-wrap:wrap;\n",
              "      gap: 12px;\n",
              "    }\n",
              "\n",
              "    .colab-df-convert {\n",
              "      background-color: #E8F0FE;\n",
              "      border: none;\n",
              "      border-radius: 50%;\n",
              "      cursor: pointer;\n",
              "      display: none;\n",
              "      fill: #1967D2;\n",
              "      height: 32px;\n",
              "      padding: 0 0 0 0;\n",
              "      width: 32px;\n",
              "    }\n",
              "\n",
              "    .colab-df-convert:hover {\n",
              "      background-color: #E2EBFA;\n",
              "      box-shadow: 0px 1px 2px rgba(60, 64, 67, 0.3), 0px 1px 3px 1px rgba(60, 64, 67, 0.15);\n",
              "      fill: #174EA6;\n",
              "    }\n",
              "\n",
              "    [theme=dark] .colab-df-convert {\n",
              "      background-color: #3B4455;\n",
              "      fill: #D2E3FC;\n",
              "    }\n",
              "\n",
              "    [theme=dark] .colab-df-convert:hover {\n",
              "      background-color: #434B5C;\n",
              "      box-shadow: 0px 1px 3px 1px rgba(0, 0, 0, 0.15);\n",
              "      filter: drop-shadow(0px 1px 2px rgba(0, 0, 0, 0.3));\n",
              "      fill: #FFFFFF;\n",
              "    }\n",
              "  </style>\n",
              "\n",
              "      <script>\n",
              "        const buttonEl =\n",
              "          document.querySelector('#df-95b7d8d5-22b3-4b87-b02b-80ae789d2892 button.colab-df-convert');\n",
              "        buttonEl.style.display =\n",
              "          google.colab.kernel.accessAllowed ? 'block' : 'none';\n",
              "\n",
              "        async function convertToInteractive(key) {\n",
              "          const element = document.querySelector('#df-95b7d8d5-22b3-4b87-b02b-80ae789d2892');\n",
              "          const dataTable =\n",
              "            await google.colab.kernel.invokeFunction('convertToInteractive',\n",
              "                                                     [key], {});\n",
              "          if (!dataTable) return;\n",
              "\n",
              "          const docLinkHtml = 'Like what you see? Visit the ' +\n",
              "            '<a target=\"_blank\" href=https://colab.research.google.com/notebooks/data_table.ipynb>data table notebook</a>'\n",
              "            + ' to learn more about interactive tables.';\n",
              "          element.innerHTML = '';\n",
              "          dataTable['output_type'] = 'display_data';\n",
              "          await google.colab.output.renderOutput(dataTable, element);\n",
              "          const docLink = document.createElement('div');\n",
              "          docLink.innerHTML = docLinkHtml;\n",
              "          element.appendChild(docLink);\n",
              "        }\n",
              "      </script>\n",
              "    </div>\n",
              "  </div>\n",
              "  "
            ]
          },
          "metadata": {},
          "execution_count": 25
        }
      ]
    },
    {
      "cell_type": "code",
      "metadata": {
        "id": "ueILPvBxqU-W"
      },
      "source": [
        "#Memisahkan Feature dan Label\n",
        "#Feature\n",
        "X = music2.iloc[:,:14].values\n",
        "Y = music2.iloc[:, 14].values"
      ],
      "execution_count": 26,
      "outputs": []
    },
    {
      "cell_type": "code",
      "metadata": {
        "colab": {
          "base_uri": "https://localhost:8080/"
        },
        "id": "kv_O-pOBt4jw",
        "outputId": "a2dd589d-6d3e-4088-9e7a-4f2b440ed41c"
      },
      "source": [
        "scaler = StandardScaler()\n",
        "\n",
        "# transform data\n",
        "X_scaled = scaler.fit_transform(X)\n",
        "print(X_scaled)"
      ],
      "execution_count": 27,
      "outputs": [
        {
          "output_type": "stream",
          "name": "stdout",
          "text": [
            "[[ 0.6578634  -0.86108     0.59301271 ... -0.22000411  0.33481231\n",
            "   0.22582345]\n",
            " [-0.48893955 -0.54783734 -0.2323635  ...  0.8410691  -0.89146753\n",
            "   0.22582345]\n",
            " [ 0.59750535 -2.15621793  1.25744056 ...  2.5868942   0.14687296\n",
            "   0.22582345]\n",
            " ...\n",
            " [-0.5492976   0.19912594  1.28220184 ... -0.6092036   0.02828982\n",
            "   0.22582345]\n",
            " [-0.85108785 -1.86707086  0.55587078 ...  0.28659404  0.05825067\n",
            "   0.22582345]\n",
            " [-0.00607515 -0.75264985  0.75396107 ...  0.51558089 -0.26514691\n",
            "   0.22582345]]\n"
          ]
        }
      ]
    },
    {
      "cell_type": "code",
      "metadata": {
        "id": "mgYVtujdlX57",
        "colab": {
          "base_uri": "https://localhost:8080/"
        },
        "outputId": "cf125431-5171-403e-e9de-5e2d0de089d5"
      },
      "source": [
        "#Memilih k feature yang sesuai\n",
        "selector = SelectKBest(f_classif, k=9)\n",
        "selector.fit(X_scaled, Y)\n",
        "X_new_a = selector.fit_transform(X_scaled, Y)\n",
        "print(\"nilai statistik hitung tiap feature : \", selector.scores_)\n",
        "print('\\n', \"nilai p value : \", selector.pvalues_)"
      ],
      "execution_count": 28,
      "outputs": [
        {
          "output_type": "stream",
          "name": "stdout",
          "text": [
            "nilai statistik hitung tiap feature :  [139.88066056 327.57607032 607.05627169   3.44940318 533.23015937\n",
            "  17.36126483 240.43782283 702.69800751 307.34168538  25.06319532\n",
            " 208.2249501   28.89657946 931.21961423  25.14183356]\n",
            "\n",
            " nilai p value :  [5.67588919e-278 0.00000000e+000 0.00000000e+000 1.54594261e-004\n",
            " 0.00000000e+000 8.80419429e-032 0.00000000e+000 0.00000000e+000\n",
            " 0.00000000e+000 1.36713016e-047 0.00000000e+000 1.72827268e-055\n",
            " 0.00000000e+000 9.41651367e-048]\n"
          ]
        }
      ]
    },
    {
      "cell_type": "code",
      "metadata": {
        "id": "tET0fiIZ0bAz",
        "colab": {
          "base_uri": "https://localhost:8080/",
          "height": 296
        },
        "outputId": "34161f57-1fbc-44bc-8cf4-fefab6ad335b"
      },
      "source": [
        "#memvisualisasikan cumulative explained ratio\n",
        "pca = PCA()\n",
        "pca_data = pca.fit_transform(X_scaled)\n",
        "\n",
        "plt.plot(np.cumsum(pca.explained_variance_ratio_))\n",
        "plt.xlabel(\"number of components\")\n",
        "plt.ylabel(\"cumulative explained variance\")"
      ],
      "execution_count": 29,
      "outputs": [
        {
          "output_type": "execute_result",
          "data": {
            "text/plain": [
              "Text(0, 0.5, 'cumulative explained variance')"
            ]
          },
          "metadata": {},
          "execution_count": 29
        },
        {
          "output_type": "display_data",
          "data": {
            "text/plain": [
              "<Figure size 432x288 with 1 Axes>"
            ],
            "image/png": "[encoded data removed]"
          },
          "metadata": {
            "needs_background": "light"
          }
        }
      ]
    },
    {
      "cell_type": "code",
      "metadata": {
        "id": "MEDRgbMk3vSh",
        "colab": {
          "base_uri": "https://localhost:8080/"
        },
        "outputId": "93d31894-1b53-41ac-c74c-27a2c9adbe35"
      },
      "source": [
        "# implementasi pca sesuai grafik\n",
        "n = 8\n",
        "pca = PCA(n_components = n)\n",
        "X_new_pca = pca.fit_transform(X_scaled)\n",
        "total_var = pca.explained_variance_ratio_.sum() * 100\n",
        "print(total_var, '% of total variance is explained by',n, 'principal components')"
      ],
      "execution_count": 30,
      "outputs": [
        {
          "output_type": "stream",
          "name": "stdout",
          "text": [
            "76.68715479081386 % of total variance is explained by 8 principal components\n"
          ]
        }
      ]
    },
    {
      "cell_type": "code",
      "metadata": {
        "id": "wYmwIkkktld8",
        "colab": {
          "base_uri": "https://localhost:8080/",
          "height": 296
        },
        "outputId": "4a162b39-d02d-4571-826d-4e96e5d5f9e9"
      },
      "source": [
        "#memvisualisasikan cumulative explained ratio\n",
        "lda = LinearDiscriminantAnalysis()\n",
        "lda_data = lda.fit_transform(X_scaled, Y)\n",
        "\n",
        "plt.plot(np.cumsum(lda.explained_variance_ratio_))\n",
        "plt.xlabel(\"number of components\")\n",
        "plt.ylabel(\"culumative explained variance\")"
      ],
      "execution_count": 31,
      "outputs": [
        {
          "output_type": "execute_result",
          "data": {
            "text/plain": [
              "Text(0, 0.5, 'culumative explained variance')"
            ]
          },
          "metadata": {},
          "execution_count": 31
        },
        {
          "output_type": "display_data",
          "data": {
            "text/plain": [
              "<Figure size 432x288 with 1 Axes>"
            ],
            "image/png": "[encoded data removed]"
          },
          "metadata": {
            "needs_background": "light"
          }
        }
      ]
    },
    {
      "cell_type": "code",
      "metadata": {
        "id": "8LpOebrruC77",
        "colab": {
          "base_uri": "https://localhost:8080/"
        },
        "outputId": "c65802cc-e995-43f4-b9f2-4cf91db74afe"
      },
      "source": [
        "#mengimplementasikan LDA sesuai grafik\n",
        "l = 4\n",
        "lda = LinearDiscriminantAnalysis(n_components=l)\n",
        "X_new_lda = lda.fit_transform(X_scaled, Y)\n",
        "total_var = lda.explained_variance_ratio_.sum() * 100\n",
        "print(total_var, '% of total variance is expalained by', l, 'features')"
      ],
      "execution_count": 32,
      "outputs": [
        {
          "output_type": "stream",
          "name": "stdout",
          "text": [
            "91.36003363150662 % of total variance is expalained by 4 features\n"
          ]
        }
      ]
    },
    {
      "cell_type": "code",
      "metadata": {
        "id": "WHw5eYajkqed",
        "colab": {
          "base_uri": "https://localhost:8080/"
        },
        "outputId": "ec7fb91e-91ff-490a-d426-e892a1c6c230"
      },
      "source": [
        "#Train Model and Predict menggunakan data asli\n",
        "Xmusix = X_scaled\n",
        "Ymusix = Y\n",
        "Xmusix_train, Xmusix_test, Ymusix_train, Ymusix_test = train_test_split(Xmusix, Ymusix, test_size = 0.2, random_state = 22, stratify = Ymusix)\n",
        "\n",
        "start = time.time()\n",
        "knn = KNeighborsClassifier(n_neighbors = 9).fit(Xmusix_train, Ymusix_train)\n",
        "Ypred = knn.predict(Xmusix_test)\n",
        "end = time.time()\n",
        "print(\"Akurasi  : \", metrics.accuracy_score(Ymusix_test, Ypred))\n",
        "print(\"waktu    : \", end-start)"
      ],
      "execution_count": 33,
      "outputs": [
        {
          "output_type": "stream",
          "name": "stdout",
          "text": [
            "Akurasi  :  0.4265763859500635\n",
            "waktu    :  0.49196863174438477\n"
          ]
        }
      ]
    },
    {
      "cell_type": "code",
      "metadata": {
        "id": "etOLavSGkzaG",
        "colab": {
          "base_uri": "https://localhost:8080/"
        },
        "outputId": "ec249167-db41-428b-b4bd-0faa02735c9f"
      },
      "source": [
        "#Train Model and Predict menggunakan data dengan feature selection\n",
        "Xmusix = X_scaled\n",
        "Ymusix = Y\n",
        "Xmusix_train, Xmusix_test, Ymusix_train, Ymusix_test = train_test_split(Xmusix, Ymusix, test_size = 0.2, random_state = 22, stratify = Ymusix)\n",
        "\n",
        "start = time.time()\n",
        "select = SelectKBest(f_classif, k=8)\n",
        "select.fit(X_scaled, Y)\n",
        "Xnew = select.fit_transform(X_scaled, Y)\n",
        "print(\"nilai statistik hitung tiap feature  : \", select.scores_)\n",
        "print('\\n',\"nilai pvalue : \", select.pvalues_)\n",
        "end = time.time()\n",
        "print(\"Akurasi  : \", metrics.accuracy_score(Ymusix_test, Ypred))\n",
        "print(\"waktu    : \", end-start)"
      ],
      "execution_count": 34,
      "outputs": [
        {
          "output_type": "stream",
          "name": "stdout",
          "text": [
            "nilai statistik hitung tiap feature  :  [139.88066056 327.57607032 607.05627169   3.44940318 533.23015937\n",
            "  17.36126483 240.43782283 702.69800751 307.34168538  25.06319532\n",
            " 208.2249501   28.89657946 931.21961423  25.14183356]\n",
            "\n",
            " nilai pvalue :  [5.67588919e-278 0.00000000e+000 0.00000000e+000 1.54594261e-004\n",
            " 0.00000000e+000 8.80419429e-032 0.00000000e+000 0.00000000e+000\n",
            " 0.00000000e+000 1.36713016e-047 0.00000000e+000 1.72827268e-055\n",
            " 0.00000000e+000 9.41651367e-048]\n",
            "Akurasi  :  0.4265763859500635\n",
            "waktu    :  0.010654449462890625\n"
          ]
        }
      ]
    },
    {
      "cell_type": "code",
      "metadata": {
        "id": "1RmJKi_O3M1J",
        "colab": {
          "base_uri": "https://localhost:8080/"
        },
        "outputId": "4d7ac22c-912b-4de1-8c94-66db590c870d"
      },
      "source": [
        "#Train Model and Predict menggunakan data dengan PCA\n",
        "Xmusix = X_scaled\n",
        "Ymusix = Y\n",
        "Xmusix_train, Xmusix_test, Ymusix_train, Ymusix_test = train_test_split(Xmusix, Ymusix, test_size = 0.2, random_state = 22, stratify = Ymusix)\n",
        "\n",
        "start = time.time()\n",
        "n = 8\n",
        "pca = PCA(n_components = n)\n",
        "X_new_pca = pca.fit_transform(X_scaled)\n",
        "total_var = pca.explained_variance_ratio_.sum() * 100\n",
        "print(total_var, '% of total variance is explained by',n, 'principal components')\n",
        "end = time.time()\n",
        "print(\"Akurasi  : \", metrics.accuracy_score(Ymusix_test, Ypred))\n",
        "print(\"waktu    : \", end-start)"
      ],
      "execution_count": 35,
      "outputs": [
        {
          "output_type": "stream",
          "name": "stdout",
          "text": [
            "76.68715479081392 % of total variance is explained by 8 principal components\n",
            "Akurasi  :  0.4265763859500635\n",
            "waktu    :  0.022904634475708008\n"
          ]
        }
      ]
    },
    {
      "cell_type": "code",
      "metadata": {
        "id": "-NSqi4Bp3Zrs",
        "colab": {
          "base_uri": "https://localhost:8080/"
        },
        "outputId": "67a57e3e-b5bf-413f-c4f0-4cbaac3f5520"
      },
      "source": [
        "#Train Model and Predict menggunakan data dengan LDA\n",
        "Xmusix = X_scaled\n",
        "Ymusix = Y\n",
        "Xmusix_train, Xmusix_test, Ymusix_train, Ymusix_test = train_test_split(Xmusix, Ymusix, test_size = 0.2, random_state = 22, stratify = Ymusix)\n",
        "\n",
        "start = time.time()\n",
        "l = 4\n",
        "lda = LinearDiscriminantAnalysis(n_components=l)\n",
        "X_new_lda = lda.fit_transform(X_scaled, Y)\n",
        "total_var = lda.explained_variance_ratio_.sum() * 100\n",
        "print(total_var, '% of total variance is expalained by', l, 'features')\n",
        "end = time.time()\n",
        "print(\"Akurasi  : \", metrics.accuracy_score(Ymusix_test, Ypred))\n",
        "print(\"waktu    : \", end-start)"
      ],
      "execution_count": 36,
      "outputs": [
        {
          "output_type": "stream",
          "name": "stdout",
          "text": [
            "91.36003363150662 % of total variance is expalained by 4 features\n",
            "Akurasi  :  0.4265763859500635\n",
            "waktu    :  0.025643110275268555\n"
          ]
        }
      ]
    }
  ]
}