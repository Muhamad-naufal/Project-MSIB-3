{
  "nbformat": 4,
  "nbformat_minor": 0,
  "metadata": {
    "colab": {
      "name": "Exercise 1.ipynb",
      "provenance": [],
      "collapsed_sections": [],
      "authorship_tag": "ABX9TyOnJ2AV1+DiVydKQdyOJAYH",
      "include_colab_link": true
    },
    "kernelspec": {
      "name": "python3",
      "display_name": "Python 3"
    },
    "language_info": {
      "name": "python"
    }
  },
  "cells": [
    {
      "cell_type": "markdown",
      "metadata": {
        "id": "view-in-github",
        "colab_type": "text"
      },
      "source": [
        "<a href=\"https://colab.research.google.com/github/Muhamad-naufal/Project-MSIB-3/blob/main/Exercise_1.ipynb\" target=\"_parent\"><img src=\"https://colab.research.google.com/assets/colab-badge.svg\" alt=\"Open In Colab\"/></a>"
      ]
    },
    {
      "cell_type": "code",
      "source": [
        "print(\"Seseorang yang mencari tahu tentang AI\\n\")\n",
        "\n",
        "input(\"Nama\\t\\t:\")\n",
        "input(\"Jenis Kelamin\\t:\")\n",
        "input(\"Alamat\\t\\t:\")\n",
        "input(\"Hobi\\t\\t:\")\n",
        "input(\"Pendidikan\\t:\")\n",
        "input(\"Pekerjaan\\t:\")\n",
        "input(\"Media Sosial\\t:\")\n",
        "input(\"Kutipan Faforit\\t: \\n\\n\")\n",
        "print()\n",
        "print(\"Pengalaman\\t: \")\n",
        "print(\"\\t- Organisasi SMP\")\n",
        "print(\"\\t- Organisasi SMA\")"
      ],
      "metadata": {
        "colab": {
          "base_uri": "https://localhost:8080/"
        },
        "id": "-57f8fGAG_4p",
        "outputId": "76bb9e12-71ac-4e3c-c94a-dce671ebc5e2"
      },
      "execution_count": 8,
      "outputs": [
        {
          "output_type": "stream",
          "name": "stdout",
          "text": [
            "Seseorang yang mencari tahu tentang AI\n",
            "\n",
            "Nama\t\t:Muhamad Naufal Burhanuddin Balit\n",
            "Jenis Kelamin\t:Laki - Laki\n",
            "Alamat\t\t:Purworejo\n",
            "Hobi\t\t:Main Game\n",
            "Pendidikan\t:S1 - Informatika\n",
            "Pekerjaan\t:Mahasiswa\n",
            "Media Sosial\t:@muhamad_naufal594\n",
            "Kutipan Faforit\t: \n",
            "\n",
            "\"Semua pasti ada hikmahnya\"\n",
            "\n",
            "Pengalaman\t: \n",
            "\t- Organisasi SMP\n",
            "\t- Organisasi SMA\n"
          ]
        }
      ]
    }
  ]
}