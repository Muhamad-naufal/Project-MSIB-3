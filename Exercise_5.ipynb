{
  "nbformat": 4,
  "nbformat_minor": 0,
  "metadata": {
    "colab": {
      "provenance": [],
      "collapsed_sections": [],
      "authorship_tag": "ABX9TyMpnteSt+mE33stS9OWSV42",
      "include_colab_link": true
    },
    "kernelspec": {
      "name": "python3",
      "display_name": "Python 3"
    },
    "language_info": {
      "name": "python"
    }
  },
  "cells": [
    {
      "cell_type": "markdown",
      "metadata": {
        "id": "view-in-github",
        "colab_type": "text"
      },
      "source": [
        "<a href=\"https://colab.research.google.com/github/Muhamad-naufal/Project-MSIB-3/blob/main/Exercise_5.ipynb\" target=\"_parent\"><img src=\"https://colab.research.google.com/assets/colab-badge.svg\" alt=\"Open In Colab\"/></a>"
      ]
    },
    {
      "cell_type": "code",
      "execution_count": 3,
      "metadata": {
        "colab": {
          "base_uri": "https://localhost:8080/"
        },
        "id": "tkgI6UYZ7PdG",
        "outputId": "c2cb2d4d-c3f1-4bf8-a96b-8c28c68808dc"
      },
      "outputs": [
        {
          "output_type": "stream",
          "name": "stdout",
          "text": [
            "Perhitungan Upah Bersih : \n",
            "\n",
            "Nama Karyawan\t:  Anna\n",
            "Gaji Pokok\t:  7500000\n",
            "Tunjangan\t:  750000.0\n",
            "Overtime\t:  1500000\n",
            "Upah Kotor\t:  9750000.0\n",
            "Potongan\t:  195000.0\n",
            "Gaji Bersih\t:  9555000.0\n",
            "\n",
            "Gaji Bersih Anda adalah Rp. 9555000.0 \n",
            "\n",
            "Perhitungan Upah Bersih : \n",
            "\n",
            "Nama Karyawan\t:  Dimas\n",
            "Gaji Pokok\t:  5000000\n",
            "Tunjangan\t:  250000.0\n",
            "Overtime\t:  1500000\n",
            "Upah Kotor\t:  6750000.0\n",
            "Potongan\t:  135000.0\n",
            "Gaji Bersih\t:  6615000.0\n",
            "\n",
            "Gaji Bersih Anda adalah Rp. 6615000.0 \n",
            "\n",
            "Perhitungan Upah Bersih : \n",
            "\n",
            "Nama Karyawan\t:  Sriyono\n",
            "Gaji Pokok\t:  15000000\n",
            "Tunjangan\t:  2250000.0\n",
            "Overtime\t:  0\n",
            "Upah Kotor\t:  17250000.0\n",
            "Potongan\t:  345000.0\n",
            "Gaji Bersih\t:  16905000.0\n",
            "\n",
            "Gaji Bersih Anda adalah Rp. 16905000.0 \n",
            "\n",
            "Perhitungan Upah Bersih : \n",
            "\n",
            "Nama Karyawan\t:  Oky\n",
            "Gaji Pokok\t:  7500000\n",
            "Tunjangan\t:  750000.0\n",
            "Overtime\t:  1200000\n",
            "Upah Kotor\t:  9450000.0\n",
            "Potongan\t:  189000.0\n",
            "Gaji Bersih\t:  9261000.0\n",
            "\n",
            "Gaji Bersih Anda adalah Rp. 9261000.0 \n",
            "\n",
            "Perhitungan Upah Bersih : \n",
            "\n",
            "Nama Karyawan\t:  Wati\n",
            "Gaji Pokok\t:  15000000\n",
            "Tunjangan\t:  2250000.0\n",
            "Overtime\t:  0\n",
            "Upah Kotor\t:  17250000.0\n",
            "Potongan\t:  345000.0\n",
            "Gaji Bersih\t:  16905000.0\n",
            "\n",
            "Gaji Bersih Anda adalah Rp. 16905000.0 \n",
            "\n",
            "Perhitungan Upah Bersih : \n",
            "\n",
            "Nama Karyawan\t:  Yayan\n",
            "Gaji Pokok\t:  5000000\n",
            "Tunjangan\t:  250000.0\n",
            "Overtime\t:  1700000\n",
            "Upah Kotor\t:  6950000.0\n",
            "Potongan\t:  139000.0\n",
            "Gaji Bersih\t:  6811000.0\n",
            "\n",
            "Gaji Bersih Anda adalah Rp. 6811000.0 \n",
            "\n"
          ]
        }
      ],
      "source": [
        "def upah_bersih(nama, golongan, overtime):\n",
        "  if golongan == 1:\n",
        "    print(\"Perhitungan Upah Bersih : \")\n",
        "    gaji_pokok = 15000000\n",
        "    tunjangan = gaji_pokok * 15/100\n",
        "    overtime = 0 * overtime\n",
        "\n",
        "    upah_kotor = gaji_pokok + tunjangan + overtime\n",
        "    potongan = upah_kotor * 2/100\n",
        "    upah_bersih = upah_kotor - potongan\n",
        "\n",
        "    print(\"\\nNama Karyawan\\t: \", nama)\n",
        "    print(\"Gaji Pokok\\t: \", gaji_pokok)\n",
        "    print(\"Tunjangan\\t: \", tunjangan)\n",
        "    print(\"Overtime\\t: \", overtime)\n",
        "    print(\"Upah Kotor\\t: \", upah_kotor)\n",
        "    print(\"Potongan\\t: \", potongan)\n",
        "    print(\"Gaji Bersih\\t: \", upah_bersih)\n",
        "    print(\"\\nGaji Bersih Anda adalah Rp.\", upah_bersih, \"\\n\")\n",
        "\n",
        "  if golongan == 2:\n",
        "    print(\"Perhitungan Upah Bersih : \")\n",
        "    gaji_pokok = 7500000\n",
        "    tunjangan = gaji_pokok * 10/100\n",
        "    overtime = 150000 * overtime\n",
        "\n",
        "    upah_kotor = gaji_pokok + tunjangan + overtime\n",
        "    potongan = upah_kotor * 2/100\n",
        "    upah_bersih = upah_kotor - potongan\n",
        "\n",
        "    print(\"\\nNama Karyawan\\t: \", nama)\n",
        "    print(\"Gaji Pokok\\t: \", gaji_pokok)\n",
        "    print(\"Tunjangan\\t: \", tunjangan)\n",
        "    print(\"Overtime\\t: \", overtime)\n",
        "    print(\"Upah Kotor\\t: \", upah_kotor)\n",
        "    print(\"Potongan\\t: \", potongan)\n",
        "    print(\"Gaji Bersih\\t: \", upah_bersih)\n",
        "    print(\"\\nGaji Bersih Anda adalah Rp.\", upah_bersih, \"\\n\")\n",
        "\n",
        "  if golongan == 3:\n",
        "    print(\"Perhitungan Upah Bersih : \")\n",
        "    gaji_pokok = 5000000\n",
        "    tunjangan = gaji_pokok * 5/100\n",
        "    overtime = 100000 * overtime\n",
        "\n",
        "    upah_kotor = gaji_pokok + tunjangan + overtime\n",
        "    potongan = upah_kotor * 2/100\n",
        "    upah_bersih = upah_kotor - potongan\n",
        "\n",
        "    print(\"\\nNama Karyawan\\t: \", nama)\n",
        "    print(\"Gaji Pokok\\t: \", gaji_pokok)\n",
        "    print(\"Tunjangan\\t: \", tunjangan)\n",
        "    print(\"Overtime\\t: \", overtime)\n",
        "    print(\"Upah Kotor\\t: \", upah_kotor)\n",
        "    print(\"Potongan\\t: \", potongan)\n",
        "    print(\"Gaji Bersih\\t: \", upah_bersih)\n",
        "    print(\"\\nGaji Bersih Anda adalah Rp.\", upah_bersih, \"\\n\")\n",
        "    \n",
        "upah_bersih(\"Anna\", 2, 10)\n",
        "upah_bersih(\"Dimas\", 3, 15)\n",
        "upah_bersih(\"Sriyono\", 1, 3)\n",
        "upah_bersih(\"Oky\", 2, 8)\n",
        "upah_bersih(\"Wati\", 1, 6)\n",
        "upah_bersih(\"Yayan\", 3, 17)"
      ]
    },
    {
      "cell_type": "code",
      "source": [
        "mul_14 = [(lambda x : x * 14)(x) for x in range (1, 31)]\n",
        "print(mul_14)"
      ],
      "metadata": {
        "id": "QUTCQmPk7Ujt",
        "colab": {
          "base_uri": "https://localhost:8080/"
        },
        "outputId": "0000a9a3-e4b0-4498-c3f6-b8617a933c4d"
      },
      "execution_count": 4,
      "outputs": [
        {
          "output_type": "stream",
          "name": "stdout",
          "text": [
            "[14, 28, 42, 56, 70, 84, 98, 112, 126, 140, 154, 168, 182, 196, 210, 224, 238, 252, 266, 280, 294, 308, 322, 336, 350, 364, 378, 392, 406, 420]\n"
          ]
        }
      ]
    }
  ]
}