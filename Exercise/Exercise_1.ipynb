{
  "nbformat": 4,
  "nbformat_minor": 0,
  "metadata": {
    "colab": {
      "provenance": [],
      "collapsed_sections": []
    },
    "kernelspec": {
      "name": "python3",
      "display_name": "Python 3"
    },
    "language_info": {
      "name": "python"
    }
  },
  "cells": [
    {
      "cell_type": "code",
      "source": [
        "print(\"Seseorang yang mencari tahu tentang AI\\n\")\n",
        "\n",
        "input(\"Nama\\t\\t:\")\n",
        "input(\"Jenis Kelamin\\t:\")\n",
        "input(\"Alamat\\t\\t:\")\n",
        "input(\"Hobi\\t\\t:\")\n",
        "input(\"Pendidikan\\t:\")\n",
        "input(\"Pekerjaan\\t:\")\n",
        "input(\"Media Sosial\\t:\")\n",
        "input(\"Kutipan Faforit\\t: \\n\\n\")\n",
        "print()\n",
        "print(\"Pengalaman\\t: \")\n",
        "print(\"\\t- Organisasi SMP\")\n",
        "print(\"\\t- Organisasi SMA\")"
      ],
      "metadata": {
        "colab": {
          "base_uri": "https://localhost:8080/"
        },
        "id": "-57f8fGAG_4p",
        "outputId": "76bb9e12-71ac-4e3c-c94a-dce671ebc5e2"
      },
      "execution_count": null,
      "outputs": [
        {
          "output_type": "stream",
          "name": "stdout",
          "text": [
            "Seseorang yang mencari tahu tentang AI\n",
            "\n",
            "Nama\t\t:Muhamad Naufal Burhanuddin Balit\n",
            "Jenis Kelamin\t:Laki - Laki\n",
            "Alamat\t\t:Purworejo\n",
            "Hobi\t\t:Main Game\n",
            "Pendidikan\t:S1 - Informatika\n",
            "Pekerjaan\t:Mahasiswa\n",
            "Media Sosial\t:@muhamad_naufal594\n",
            "Kutipan Faforit\t: \n",
            "\n",
            "\"Semua pasti ada hikmahnya\"\n",
            "\n",
            "Pengalaman\t: \n",
            "\t- Organisasi SMP\n",
            "\t- Organisasi SMA\n"
          ]
        }
      ]
    }
  ]
}