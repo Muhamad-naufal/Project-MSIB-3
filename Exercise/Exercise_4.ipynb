{
  "nbformat": 4,
  "nbformat_minor": 0,
  "metadata": {
    "colab": {
      "provenance": [],
      "collapsed_sections": []
    },
    "kernelspec": {
      "name": "python3",
      "display_name": "Python 3"
    },
    "language_info": {
      "name": "python"
    }
  },
  "cells": [
    {
      "cell_type": "code",
      "execution_count": null,
      "metadata": {
        "id": "pL3lQ2Mio6y-"
      },
      "outputs": [],
      "source": [
        "print(\"Menentukan Status Berat Badan Berdasarkan BMI\\n\")\n",
        "\n",
        "BB = float(input(\"Masukkan Berat Badan (kg) : \"))\n",
        "TB = float(input(\"Masukkan Tinggi Badan (cm) : \"))\n",
        "\n",
        "BMI = BB / TB * TB\n",
        "\n",
        "if BMI < 18.5:\n",
        "  print(\"Kurang Berat Badan\")\n",
        "elif BMI >= 18.5:\n",
        "  print(\"Normal\")\n",
        "elif BMI >= 23:\n",
        "  print(\"Kelebihan Berat Badan\")\n",
        "elif BMI >= 25:\n",
        "  print(\"Obesitas Tingkat 1\")\n",
        "else:\n",
        "  print(\"Obesitas Tingkat 2\")"
      ]
    },
    {
      "cell_type": "code",
      "source": [
        "x, jum, i = 0, 0, 0\n",
        "\n",
        "x = int(input(\"Inputkan Angka\\t: \"))\n",
        "while x != 0:\n",
        "  i += 1\n",
        "  jum += x\n",
        "  x = int(input(\"Inputkan Angka\\t: \"))\n",
        "\n",
        "if i != 0:\n",
        "  rata2 = jum/i\n",
        "  print(\"RATA - RATA SEMUA ANGKA YANG TELAH DIMASUKKAN SEBELUMNYA ADALAH \", rata2)\n",
        "else:\n",
        "  print(\"tidak ada nilai\")"
      ],
      "metadata": {
        "colab": {
          "base_uri": "https://localhost:8080/"
        },
        "id": "Yxi3xRMVrKXf",
        "outputId": "d84fbeea-0046-4fbe-f614-da512dafa78c"
      },
      "execution_count": 8,
      "outputs": [
        {
          "output_type": "stream",
          "name": "stdout",
          "text": [
            "Inputkan Angka\t: 1\n",
            "Inputkan Angka\t: 2\n",
            "Inputkan Angka\t: 3\n",
            "Inputkan Angka\t: 4\n",
            "Inputkan Angka\t: 5\n",
            "Inputkan Angka\t: 0\n",
            "RATA - RATA SEMUA ANGKA YANG TELAH DIMASUKKAN SEBELUMNYA ADALAH  3.0\n"
          ]
        }
      ]
    },
    {
      "cell_type": "code",
      "source": [
        "listl = [67, 46, 52, -12, 50, 73, 11, 61, 101, 41, 86, 86, \n",
        "     74, 88, 43, 67, 71, 47, 81, 45, 85, 17, -1, 39, 20, 79]\n",
        "A = []\n",
        "B = []\n",
        "C = []\n",
        "D = []\n",
        "E = []\n",
        "TV = []\n",
        "\n",
        "for nilai in listl:\n",
        "  if nilai >= 80 and nilai <= 100:\n",
        "    A.append(nilai)\n",
        "  elif nilai >= 70 and nilai <= 79:\n",
        "    B.append(nilai)\n",
        "  elif nilai >= 50 and nilai <= 69:\n",
        "    C.append(nilai)\n",
        "  elif nilai >= 40 and nilai <= 49:\n",
        "    D.append(nilai)\n",
        "  elif nilai >= 0 and nilai <= 39:\n",
        "    E.append(nilai)\n",
        "  else:\n",
        "    TV.append(nilai)\n",
        "\n",
        "print(\"Grade A\\t\\t\\t: \", A)\n",
        "print(\"Grade B\\t\\t\\t: \", B)\n",
        "print(\"Grade C\\t\\t\\t: \", C)\n",
        "print(\"Grade D\\t\\t\\t: \", D)\n",
        "print(\"Grade E\\t\\t\\t: \", E)\n",
        "print(\"Nilai Tidak Valid\\t: \", TV)"
      ],
      "metadata": {
        "colab": {
          "base_uri": "https://localhost:8080/"
        },
        "id": "OliIsBt21Mx4",
        "outputId": "3e81d768-8db1-4f15-b7e5-13389027ef8d"
      },
      "execution_count": 26,
      "outputs": [
        {
          "output_type": "stream",
          "name": "stdout",
          "text": [
            "Grade A\t\t\t:  [86, 86, 88, 81, 85]\n",
            "Grade B\t\t\t:  [73, 74, 71, 79]\n",
            "Grade C\t\t\t:  [67, 52, 50, 61, 67]\n",
            "Grade D\t\t\t:  [46, 41, 43, 47, 45]\n",
            "Grade E\t\t\t:  [11, 17, 39, 20]\n",
            "Nilai Tidak Valid\t:  [-12, 101, -1]\n"
          ]
        }
      ]
    }
  ]
}